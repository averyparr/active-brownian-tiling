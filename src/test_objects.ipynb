{
 "cells": [
  {
   "cell_type": "code",
   "execution_count": 15,
   "metadata": {},
   "outputs": [
    {
     "name": "stdout",
     "output_type": "stream",
     "text": [
      "The autoreload extension is already loaded. To reload it, use:\n",
      "  %reload_ext autoreload\n"
     ]
    }
   ],
   "source": [
    "%load_ext autoreload\n",
    "%autoreload 2\n",
    "from objects import vertices_to_polygon\n",
    "import jax.numpy as jnp"
   ]
  },
  {
   "cell_type": "code",
   "execution_count": 16,
   "metadata": {},
   "outputs": [],
   "source": [
    "square = vertices_to_polygon([[0,0],[0,1],[1,0],[1,1]])"
   ]
  },
  {
   "cell_type": "code",
   "execution_count": 17,
   "metadata": {},
   "outputs": [
    {
     "data": {
      "text/plain": [
       "DeviceArray([[-1.,  0.],\n",
       "             [ 0., -1.],\n",
       "             [ 1.,  0.],\n",
       "             [ 0.,  1.]], dtype=float32)"
      ]
     },
     "execution_count": 17,
     "metadata": {},
     "output_type": "execute_result"
    }
   ],
   "source": [
    "square.normals_0"
   ]
  },
  {
   "cell_type": "code",
   "execution_count": 20,
   "metadata": {},
   "outputs": [
    {
     "data": {
      "text/plain": [
       "(DeviceArray([[-0.5, -0.5],\n",
       "              [ 0.5, -0.5],\n",
       "              [ 0.5,  0.5],\n",
       "              [-0.5,  0.5]], dtype=float32),\n",
       " DeviceArray([[-1.,  0.],\n",
       "              [ 0., -1.],\n",
       "              [ 1.,  0.],\n",
       "              [ 0.,  1.]], dtype=float32),\n",
       " DeviceArray([0.5, 0.5, 0.5, 0.5], dtype=float32))"
      ]
     },
     "execution_count": 20,
     "metadata": {},
     "output_type": "execute_result"
    }
   ],
   "source": [
    "com = jnp.array([0.,0.])\n",
    "square.get_vertices_normals_proj_jax(com,jnp.array(0.0))"
   ]
  }
 ],
 "metadata": {
  "kernelspec": {
   "display_name": "230final",
   "language": "python",
   "name": "python3"
  },
  "language_info": {
   "codemirror_mode": {
    "name": "ipython",
    "version": 3
   },
   "file_extension": ".py",
   "mimetype": "text/x-python",
   "name": "python",
   "nbconvert_exporter": "python",
   "pygments_lexer": "ipython3",
   "version": "3.10.6"
  },
  "orig_nbformat": 4
 },
 "nbformat": 4,
 "nbformat_minor": 2
}

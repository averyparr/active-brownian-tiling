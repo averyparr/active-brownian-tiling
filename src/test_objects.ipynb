{
 "cells": [
  {
   "cell_type": "code",
   "execution_count": 43,
   "metadata": {},
   "outputs": [
    {
     "name": "stdout",
     "output_type": "stream",
     "text": [
      "The autoreload extension is already loaded. To reload it, use:\n",
      "  %reload_ext autoreload\n"
     ]
    }
   ],
   "source": [
    "%load_ext autoreload\n",
    "%autoreload 2\n",
    "from objects import convex_polygon\n",
    "import jax.numpy as jnp"
   ]
  },
  {
   "cell_type": "code",
   "execution_count": 44,
   "metadata": {},
   "outputs": [],
   "source": [
    "square = convex_polygon([[0,0],[0,1],[1,0],[1,1]])\n",
    "square.rot_gamma = 1."
   ]
  },
  {
   "cell_type": "code",
   "execution_count": 45,
   "metadata": {},
   "outputs": [
    {
     "data": {
      "text/plain": [
       "DeviceArray([[-1.,  0.],\n",
       "             [ 0., -1.],\n",
       "             [ 1.,  0.],\n",
       "             [ 0.,  1.]], dtype=float32)"
      ]
     },
     "execution_count": 45,
     "metadata": {},
     "output_type": "execute_result"
    }
   ],
   "source": [
    "square.normals_0"
   ]
  },
  {
   "cell_type": "code",
   "execution_count": 46,
   "metadata": {},
   "outputs": [
    {
     "data": {
      "text/plain": [
       "(DeviceArray([[-0.5, -0.5],\n",
       "              [ 0.5, -0.5],\n",
       "              [ 0.5,  0.5],\n",
       "              [-0.5,  0.5]], dtype=float32),\n",
       " DeviceArray([[-1.,  0.],\n",
       "              [ 0., -1.],\n",
       "              [ 1.,  0.],\n",
       "              [ 0.,  1.]], dtype=float32),\n",
       " DeviceArray([0.5, 0.5, 0.5, 0.5], dtype=float32))"
      ]
     },
     "execution_count": 46,
     "metadata": {},
     "output_type": "execute_result"
    }
   ],
   "source": [
    "com = jnp.array([0.,0.])\n",
    "square.get_vertices_normals_proj_jax(com,jnp.array(0.0))"
   ]
  },
  {
   "cell_type": "code",
   "execution_count": 47,
   "metadata": {},
   "outputs": [
    {
     "data": {
      "text/plain": [
       "DeviceArray([[ 0.50009763,  0.1       ],\n",
       "             [ 0.        ,  0.6       ],\n",
       "             [-0.50009763, -0.1       ]], dtype=float32)"
      ]
     },
     "execution_count": 47,
     "metadata": {},
     "output_type": "execute_result"
    }
   ],
   "source": [
    "positions = jnp.array([[0.4,0.1],[0.,0.6],[-0.4,-0.1]])\n",
    "mpv = square.get_min_particle_push_vector(com, 0.0, positions)\n",
    "positions + mpv"
   ]
  },
  {
   "cell_type": "code",
   "execution_count": 48,
   "metadata": {},
   "outputs": [
    {
     "data": {
      "text/plain": [
       "DeviceArray(0.02001953, dtype=float32)"
      ]
     },
     "execution_count": 48,
     "metadata": {},
     "output_type": "execute_result"
    }
   ],
   "source": [
    "square.get_rotation_from_wall_particle_interaction(com, positions, mpv, 1)"
   ]
  },
  {
   "cell_type": "code",
   "execution_count": null,
   "metadata": {},
   "outputs": [],
   "source": []
  }
 ],
 "metadata": {
  "kernelspec": {
   "display_name": "230final",
   "language": "python",
   "name": "python3"
  },
  "language_info": {
   "codemirror_mode": {
    "name": "ipython",
    "version": 3
   },
   "file_extension": ".py",
   "mimetype": "text/x-python",
   "name": "python",
   "nbconvert_exporter": "python",
   "pygments_lexer": "ipython3",
   "version": "3.10.6"
  },
  "orig_nbformat": 4
 },
 "nbformat": 4,
 "nbformat_minor": 2
}

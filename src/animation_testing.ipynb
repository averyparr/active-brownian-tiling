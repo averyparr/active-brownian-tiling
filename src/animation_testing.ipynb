{
 "cells": [
  {
   "cell_type": "code",
   "execution_count": 10,
   "metadata": {},
   "outputs": [
    {
     "name": "stderr",
     "output_type": "stream",
     "text": [
      "MovieWriter imagemagick unavailable; using Pillow instead.\n"
     ]
    }
   ],
   "source": [
    "import numpy as np\n",
    "import matplotlib.pyplot as plt\n",
    "from matplotlib.animation import FuncAnimation\n",
    "import matplotlib.patches as patches\n",
    "from matplotlib.lines import Line2D\n",
    "import time\n",
    "\n",
    "class AnimationBox:\n",
    "    def __init__(self, width, height):\n",
    "        self.width = width\n",
    "        self.height = height\n",
    "        self.particles = []\n",
    "        self.arrows = []\n",
    "        self.walls = []\n",
    "\n",
    "    def add_particles(self, r, theta):\n",
    "        for r_i, theta_i in zip(r, theta):\n",
    "            self.particles.append({\"r\": r_i, \"theta\": theta_i, \"history\": [], \"theta_history\": []})\n",
    "\n",
    "    def add_walls(self, wall_points):\n",
    "        self.walls.append(wall_points)\n",
    "\n",
    "    def update_particles(self, r, theta, t):\n",
    "        for i, (r_i, theta_i) in enumerate(zip(r, theta)):\n",
    "            self.particles[i][\"r\"] = r_i\n",
    "            self.particles[i][\"theta\"] = theta_i\n",
    "            self.particles[i][\"history\"].append(r_i)\n",
    "            self.particles[i][\"theta_history\"].append(theta_i)\n",
    "\n",
    "    def animate(self, show_arrows=False, output_file='animation.gif'):\n",
    "        if not self.particles or not self.particles[0][\"history\"]:\n",
    "            print(\"No particles or frames found. Cannot create animation.\")\n",
    "            return\n",
    "\n",
    "        fig, ax = plt.subplots()\n",
    "        ax.set_xlim(0, self.width)\n",
    "        ax.set_ylim(0, self.height)\n",
    "\n",
    "        for wall_points in self.walls:\n",
    "            ax.add_line(Line2D(wall_points[:, 0], wall_points[:, 1], color='k'))\n",
    "\n",
    "        scatters = [ax.scatter(particle[\"r\"][0], particle[\"r\"][1]) for particle in self.particles]\n",
    "\n",
    "        if show_arrows:\n",
    "            for particle in self.particles:\n",
    "                arrow = patches.Arrow(particle[\"r\"][0], particle[\"r\"][1],\n",
    "                                      np.cos(particle[\"theta\"]), np.sin(particle[\"theta\"]),\n",
    "                                      width=0.3, color='C0')\n",
    "                self.arrows.append(ax.add_patch(arrow))\n",
    "\n",
    "        def update(frame):\n",
    "            for i, particle in enumerate(self.particles):\n",
    "                scatters[i].set_offsets([particle[\"history\"][frame]])\n",
    "                if show_arrows:\n",
    "                    self.arrows[i].remove()\n",
    "                    arrow = patches.Arrow(particle[\"history\"][frame][0], particle[\"history\"][frame][1],\n",
    "                                          np.cos(particle[\"theta_history\"][frame][0]), np.sin(particle[\"theta_history\"][frame][0]),\n",
    "                                          width=0.3, color=scatters[i].get_facecolor().tolist()[0])\n",
    "                    self.arrows[i] = ax.add_patch(arrow)\n",
    "\n",
    "        num_frames = len(self.particles[0][\"history\"])\n",
    "        ani = FuncAnimation(fig, update, frames=num_frames, interval=100, blit=False)\n",
    "\n",
    "        ani.save(output_file, writer='imagemagick', fps=15)\n",
    "        time.sleep(0.1)\n",
    "        plt.close(fig)\n"
   ]
  },
  {
   "cell_type": "code",
   "execution_count": null,
   "metadata": {},
   "outputs": [],
   "source": [
    "# Example usage\n",
    "width = 10\n",
    "height = 10\n",
    "box = AnimationBox(width, height)\n",
    "r = np.array([[5, 5], [2, 2]])\n",
    "theta = np.array([[0], [np.pi / 4]])\n",
    "box.add_particles(r, theta)\n",
    "num_steps = 20\n",
    "dt = 0.1\n",
    "\n",
    "for step in range(num_steps):\n",
    "    r_dot = np.random.uniform(-1, 1, size=(2, 2))\n",
    "    theta_dot = np.random.uniform(-np.pi / 4, np.pi / 4, size=(2, 1))\n",
    "    r = r + r_dot * dt\n",
    "    theta = theta + theta_dot * dt\n",
    "    box.update_particles(r, theta, step)\n",
    "\n",
    "box.animate(show_arrows=True)"
   ]
  },
  {
   "cell_type": "code",
   "execution_count": 13,
   "metadata": {},
   "outputs": [
    {
     "name": "stderr",
     "output_type": "stream",
     "text": [
      "MovieWriter imagemagick unavailable; using Pillow instead.\n"
     ]
    }
   ],
   "source": [
    "\n",
    "# Example usage\n",
    "width = 10\n",
    "height = 10\n",
    "box = AnimationBox(width, height)\n",
    "\n",
    "# Initialize random positions and headings for 10 particles\n",
    "n_particles = 10\n",
    "r = np.random.rand(n_particles, 2) * np.array([width, height])\n",
    "theta = np.random.rand(n_particles, 1) * 2 * np.pi\n",
    "\n",
    "box.add_particles(r, theta)\n",
    "num_steps = 50\n",
    "dt = 0.1\n",
    "\n",
    "for step in range(num_steps):\n",
    "    r_dot = np.random.uniform(-1, 1, size=(n_particles, 2))\n",
    "    theta_dot = 5 * np.random.uniform(-np.pi / 4, np.pi / 4, size=(n_particles, 1))\n",
    "    r = r + r_dot * dt\n",
    "    theta = theta + theta_dot * dt\n",
    "    box.update_particles(r, theta, step)\n",
    "\n",
    "box.animate(show_arrows=True, output_file='10_particles_animation.gif')\n"
   ]
  },
  {
   "cell_type": "code",
   "execution_count": null,
   "metadata": {},
   "outputs": [],
   "source": []
  }
 ],
 "metadata": {
  "kernelspec": {
   "display_name": "230final",
   "language": "python",
   "name": "python3"
  },
  "language_info": {
   "codemirror_mode": {
    "name": "ipython",
    "version": 3
   },
   "file_extension": ".py",
   "mimetype": "text/x-python",
   "name": "python",
   "nbconvert_exporter": "python",
   "pygments_lexer": "ipython3",
   "version": "3.10.11"
  },
  "orig_nbformat": 4
 },
 "nbformat": 4,
 "nbformat_minor": 2
}

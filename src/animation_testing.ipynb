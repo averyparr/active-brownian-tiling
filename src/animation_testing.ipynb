{
 "cells": [
  {
   "cell_type": "code",
   "execution_count": 2,
   "metadata": {},
   "outputs": [],
   "source": []
  },
  {
   "cell_type": "code",
   "execution_count": null,
   "metadata": {},
   "outputs": [],
   "source": [
    "# Example usage\n",
    "width = 10\n",
    "height = 10\n",
    "box = AnimationBox(width, height)\n",
    "r = np.array([[5, 5], [2, 2]])\n",
    "theta = np.array([[0], [np.pi / 4]])\n",
    "box.add_particles(r, theta)\n",
    "num_steps = 20\n",
    "dt = 0.1\n",
    "\n",
    "for step in range(num_steps):\n",
    "    r_dot = np.random.uniform(-1, 1, size=(2, 2))\n",
    "    theta_dot = np.random.uniform(-np.pi / 4, np.pi / 4, size=(2, 1))\n",
    "    r = r + r_dot * dt\n",
    "    theta = theta + theta_dot * dt\n",
    "    box.update_particles(r, theta, step)\n",
    "\n",
    "box.animate(show_arrows=True)"
   ]
  },
  {
   "cell_type": "code",
   "execution_count": 13,
   "metadata": {},
   "outputs": [],
   "source": [
    "def animate_particles(r: np.ndarray, theta: np.ndarray, width: float, height: float, show_arrows: bool=False, gif_filename: str=\"particles.gif\"):\n",
    "    \"\"\"\n",
    "    Create an animated GIF of particles with their positions in every frame and optionally display arrows\n",
    "    representing their headings at each frame.\n",
    "\n",
    "    Parameters\n",
    "    ----------\n",
    "    r : jnp.ndarray\n",
    "        A 3D array of particle positions with shape (n_frames, n_particles, 2).\n",
    "    theta : jnp.ndarray\n",
    "        A 2D array of particle headings with shape (n_frames, n_particles).\n",
    "    width : float\n",
    "        The width of the region to be animated.\n",
    "    height : float\n",
    "        The height of the region to be animated.\n",
    "    show_arrows : bool, optional\n",
    "        If True, arrows representing particle headings will be displayed in the animation. Default is False.\n",
    "    gif_filename : str, optional\n",
    "        The filename for the output animated GIF. Default is \"particles.gif\".\n",
    "\n",
    "    Returns\n",
    "    -------\n",
    "    None\n",
    "        The function saves an animated GIF file with the specified filename.\n",
    "    \"\"\"\n",
    "    r = np.asarray(r)\n",
    "    theta = np.asarray(theta)\n",
    "    \n",
    "    n_frames, n_particles, _ = r.shape\n",
    "\n",
    "    # Create an array to store the frames\n",
    "    frames = []\n",
    "\n",
    "    # Set up the figure and axis\n",
    "    fig, ax = plt.subplots(figsize=(6, 6))\n",
    "    ax.set_xlim(-width/2, width/2)\n",
    "    ax.set_ylim(-height/2, height/2)\n",
    "\n",
    "    for frame in (pbar := tqdm(range(n_frames))):\n",
    "        pbar.set_description(f\"Processing {frame}\")\n",
    "        \n",
    "        # Clear the axis\n",
    "        ax.clear()\n",
    "        ax.set_xlim(-width/2, width/2)\n",
    "        ax.set_ylim(-height/2, height/2)\n",
    "\n",
    "        # Plot the particle positions\n",
    "        positions = r[frame]\n",
    "        ax.scatter(positions[:, 0], positions[:, 1])\n",
    "\n",
    "        if show_arrows:\n",
    "            # Calculate the heading vectors\n",
    "            headings = np.column_stack((np.cos(theta[frame]), np.sin(theta[frame])))\n",
    "            # Plot the arrows using quiver\n",
    "            ax.quiver(positions[:, 0], positions[:, 1], headings[:, 0], headings[:, 1], color='red', angles='xy', scale_units='xy', scale=1)\n",
    "\n",
    "        # Save the frame to the buffer\n",
    "        buf = io.BytesIO()\n",
    "        plt.savefig(buf, format='png')\n",
    "        frames.append(buf.getvalue())\n",
    "        buf.close()\n",
    "\n",
    "    # Save the frames as an animated GIF\n",
    "    images = [Image.open(io.BytesIO(frame)) for frame in frames]\n",
    "    images[0].save(gif_filename, save_all=True, append_images=images[1:], loop=0, duration=100)"
   ]
  },
  {
   "cell_type": "code",
   "execution_count": 14,
   "metadata": {},
   "outputs": [
    {
     "ename": "NameError",
     "evalue": "name 'tqdm' is not defined",
     "output_type": "error",
     "traceback": [
      "\u001b[0;31m---------------------------------------------------------------------------\u001b[0m",
      "\u001b[0;31mNameError\u001b[0m                                 Traceback (most recent call last)",
      "Cell \u001b[0;32mIn[14], line 10\u001b[0m\n\u001b[1;32m      7\u001b[0m r \u001b[39m=\u001b[39m np\u001b[39m.\u001b[39mrandom\u001b[39m.\u001b[39mrand(n_frames, n_particles, \u001b[39m2\u001b[39m) \u001b[39m*\u001b[39m np\u001b[39m.\u001b[39marray([width, height])\n\u001b[1;32m      8\u001b[0m theta \u001b[39m=\u001b[39m np\u001b[39m.\u001b[39mrandom\u001b[39m.\u001b[39mrand(n_frames, n_particles) \u001b[39m*\u001b[39m \u001b[39m2\u001b[39m \u001b[39m*\u001b[39m np\u001b[39m.\u001b[39mpi\n\u001b[0;32m---> 10\u001b[0m animate_particles(r, theta, width, height, show_arrows\u001b[39m=\u001b[39;49m\u001b[39mTrue\u001b[39;49;00m)\n",
      "Cell \u001b[0;32mIn[13], line 39\u001b[0m, in \u001b[0;36manimate_particles\u001b[0;34m(r, theta, width, height, show_arrows, gif_filename)\u001b[0m\n\u001b[1;32m     36\u001b[0m ax\u001b[39m.\u001b[39mset_xlim(\u001b[39m-\u001b[39mwidth\u001b[39m/\u001b[39m\u001b[39m2\u001b[39m, width\u001b[39m/\u001b[39m\u001b[39m2\u001b[39m)\n\u001b[1;32m     37\u001b[0m ax\u001b[39m.\u001b[39mset_ylim(\u001b[39m-\u001b[39mheight\u001b[39m/\u001b[39m\u001b[39m2\u001b[39m, height\u001b[39m/\u001b[39m\u001b[39m2\u001b[39m)\n\u001b[0;32m---> 39\u001b[0m \u001b[39mfor\u001b[39;00m frame \u001b[39min\u001b[39;00m (pbar \u001b[39m:=\u001b[39m tqdm(\u001b[39mrange\u001b[39m(n_frames))):\n\u001b[1;32m     40\u001b[0m     pbar\u001b[39m.\u001b[39mset_description(\u001b[39mf\u001b[39m\u001b[39m\"\u001b[39m\u001b[39mProcessing \u001b[39m\u001b[39m{\u001b[39;00mframe\u001b[39m}\u001b[39;00m\u001b[39m\"\u001b[39m)\n\u001b[1;32m     42\u001b[0m     \u001b[39m# Clear the axis\u001b[39;00m\n",
      "\u001b[0;31mNameError\u001b[0m: name 'tqdm' is not defined"
     ]
    },
    {
     "data": {
      "image/png": "[encoded data removed]",
      "text/plain": [
       "<Figure size 600x600 with 1 Axes>"
      ]
     },
     "metadata": {},
     "output_type": "display_data"
    }
   ],
   "source": [
    "# Example usage\n",
    "n_frames = 10\n",
    "n_particles = 5\n",
    "width = 10\n",
    "height = 10\n",
    "\n",
    "r = np.random.rand(n_frames, n_particles, 2) * np.array([width, height])\n",
    "theta = np.random.rand(n_frames, n_particles) * 2 * np.pi\n",
    "\n",
    "animate_particles(r, theta, width, height, show_arrows=True)\n"
   ]
  },
  {
   "cell_type": "code",
   "execution_count": 10,
   "metadata": {},
   "outputs": [
    {
     "data": {
      "image/png": "[encoded data removed]",
      "text/plain": [
       "<Figure size 600x600 with 1 Axes>"
      ]
     },
     "metadata": {},
     "output_type": "display_data"
    }
   ],
   "source": [
    "import numpy as np\n",
    "import matplotlib.pyplot as plt\n",
    "from matplotlib.patches import FancyArrow\n",
    "from PIL import Image\n",
    "import io\n",
    "\n",
    "def animate_particles(r, theta, width, height, show_arrows=False, gif_filename=\"particles.gif\"):\n",
    "    n_frames, n_particles, _ = r.shape\n",
    "\n",
    "    # Create an array to store the frames\n",
    "    frames = []\n",
    "\n",
    "    # Set up the figure and axis\n",
    "    fig, ax = plt.subplots(figsize=(6, 6))\n",
    "    ax.set_xlim(0, width)\n",
    "    ax.set_ylim(0, height)\n",
    "\n",
    "    for frame in range(n_frames):\n",
    "        # Clear the axis\n",
    "        ax.clear()\n",
    "        ax.set_xlim(0, width)\n",
    "        ax.set_ylim(0, height)\n",
    "\n",
    "        for particle in range(n_particles):\n",
    "            # Plot the particle position\n",
    "            position = r[frame, particle]\n",
    "            heading = theta[frame, particle]\n",
    "            ax.plot(position[0], position[1], 'o')\n",
    "\n",
    "            if show_arrows:\n",
    "                # Add an arrow to represent the heading\n",
    "                dx = np.cos(heading)\n",
    "                dy = np.sin(heading)\n",
    "                arrow = FancyArrow(position[0], position[1], dx, dy, width=0.1, length_includes_head=True, color='red')\n",
    "                ax.add_patch(arrow)\n",
    "\n",
    "        # Save the frame to the buffer\n",
    "        buf = io.BytesIO()\n",
    "        plt.savefig(buf, format='png')\n",
    "        frames.append(buf.getvalue())\n",
    "        buf.close()\n",
    "\n",
    "    # Save the frames as an animated GIF\n",
    "    images = [Image.open(io.BytesIO(frame)) for frame in frames]\n",
    "    images[0].save(gif_filename, save_all=True, append_images=images[1:], loop=0, duration=100)\n",
    "\n",
    "# Example usage\n",
    "n_frames = 10\n",
    "n_particles = 5\n",
    "width = 10\n",
    "height = 10\n",
    "\n",
    "r = np.random.rand(n_frames, n_particles, 2) * np.array([width, height])\n",
    "theta = np.random.rand(n_frames, n_particles) * 2 * np.pi\n",
    "\n",
    "animate_particles(r, theta, width, height, show_arrows=True)\n"
   ]
  }
 ],
 "metadata": {
  "kernelspec": {
   "display_name": "230final",
   "language": "python",
   "name": "python3"
  },
  "language_info": {
   "codemirror_mode": {
    "name": "ipython",
    "version": 3
   },
   "file_extension": ".py",
   "mimetype": "text/x-python",
   "name": "python",
   "nbconvert_exporter": "python",
   "pygments_lexer": "ipython3",
   "version": "3.10.11"
  },
  "orig_nbformat": 4
 },
 "nbformat": 4,
 "nbformat_minor": 2
}
